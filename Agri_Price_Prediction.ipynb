{
 "cells": [
  {
   "cell_type": "markdown",
   "metadata": {},
   "source": [
    "# Car Price Predictor"
   ]
  },
  {
   "cell_type": "markdown",
   "metadata": {},
   "source": [
    "## Importing necessary libraries."
   ]
  },
  {
   "cell_type": "code",
   "execution_count": 1,
   "metadata": {
    "id": "CiB45_8HzvG-"
   },
   "outputs": [],
   "source": [
    "import numpy as np\n",
    "import pandas as pd\n",
    "import matplotlib.pyplot as plt\n",
    "import seaborn as sns\n",
    "\n",
    "\n",
    "import warnings\n",
    "warnings.simplefilter(\"ignore\")"
   ]
  },
  {
   "cell_type": "markdown",
   "metadata": {},
   "source": [
    "## Importing the csv dataframe and Analysing the  dataframe."
   ]
  },
  {
   "cell_type": "code",
   "execution_count": 2,
   "metadata": {
    "colab": {
     "base_uri": "https://localhost:8080/",
     "height": 206
    },
    "id": "wbJqJuz7Stjf",
    "outputId": "e65e6238-92f8-4e3e-eb10-b9153600fa86"
   },
   "outputs": [
    {
     "data": {
      "text/html": [
       "<div>\n",
       "<style scoped>\n",
       "    .dataframe tbody tr th:only-of-type {\n",
       "        vertical-align: middle;\n",
       "    }\n",
       "\n",
       "    .dataframe tbody tr th {\n",
       "        vertical-align: top;\n",
       "    }\n",
       "\n",
       "    .dataframe thead th {\n",
       "        text-align: right;\n",
       "    }\n",
       "</style>\n",
       "<table border=\"1\" class=\"dataframe\">\n",
       "  <thead>\n",
       "    <tr style=\"text-align: right;\">\n",
       "      <th></th>\n",
       "      <th>Commodity</th>\n",
       "      <th>Date</th>\n",
       "      <th>Quality</th>\n",
       "      <th>Location</th>\n",
       "      <th>Price (per kg)</th>\n",
       "    </tr>\n",
       "  </thead>\n",
       "  <tbody>\n",
       "    <tr>\n",
       "      <th>0</th>\n",
       "      <td>Coriander</td>\n",
       "      <td>14-Jul</td>\n",
       "      <td>Coriander Seeds Eagle,GST &amp; Freight extra at a...</td>\n",
       "      <td>Pratapgarh(Rajasthan)</td>\n",
       "      <td>75</td>\n",
       "    </tr>\n",
       "    <tr>\n",
       "      <th>1</th>\n",
       "      <td>Coriander</td>\n",
       "      <td>14-Jul</td>\n",
       "      <td>Coriander Seeds Badami,GST &amp; Freight extra at ...</td>\n",
       "      <td>Pratapgarh(Rajasthan)</td>\n",
       "      <td>67</td>\n",
       "    </tr>\n",
       "    <tr>\n",
       "      <th>2</th>\n",
       "      <td>Cumin seeds</td>\n",
       "      <td>14-Jul</td>\n",
       "      <td>Singapore 99</td>\n",
       "      <td>Pratapgarh(Rajasthan)</td>\n",
       "      <td>640</td>\n",
       "    </tr>\n",
       "    <tr>\n",
       "      <th>3</th>\n",
       "      <td>Turmeric</td>\n",
       "      <td>14-Jul</td>\n",
       "      <td>Turmeric powder Curcumin content- around 3 % M...</td>\n",
       "      <td>Sangli(Maharashtra)</td>\n",
       "      <td>123</td>\n",
       "    </tr>\n",
       "    <tr>\n",
       "      <th>4</th>\n",
       "      <td>Dry Chilli</td>\n",
       "      <td>14-Jul</td>\n",
       "      <td>Teja Stem</td>\n",
       "      <td>Guntur(Andhra Pradesh)</td>\n",
       "      <td>245</td>\n",
       "    </tr>\n",
       "  </tbody>\n",
       "</table>\n",
       "</div>"
      ],
      "text/plain": [
       "     Commodity    Date                                            Quality  \\\n",
       "0    Coriander  14-Jul  Coriander Seeds Eagle,GST & Freight extra at a...   \n",
       "1    Coriander  14-Jul  Coriander Seeds Badami,GST & Freight extra at ...   \n",
       "2  Cumin seeds  14-Jul                                       Singapore 99   \n",
       "3     Turmeric  14-Jul  Turmeric powder Curcumin content- around 3 % M...   \n",
       "4   Dry Chilli  14-Jul                                          Teja Stem   \n",
       "\n",
       "                 Location Price (per kg)  \n",
       "0   Pratapgarh(Rajasthan)             75  \n",
       "1   Pratapgarh(Rajasthan)             67  \n",
       "2   Pratapgarh(Rajasthan)            640  \n",
       "3     Sangli(Maharashtra)            123  \n",
       "4  Guntur(Andhra Pradesh)            245  "
      ]
     },
     "execution_count": 2,
     "metadata": {},
     "output_type": "execute_result"
    }
   ],
   "source": [
    "dataframe = pd.read_csv(\"Data_sheet.csv\")\n",
    "dataframe.head()"
   ]
  },
  {
   "cell_type": "markdown",
   "metadata": {},
   "source": [
    "## Analysing the datatypes of columns of the dataframe."
   ]
  },
  {
   "cell_type": "code",
   "execution_count": 3,
   "metadata": {
    "colab": {
     "base_uri": "https://localhost:8080/"
    },
    "id": "OGBABM7VS3J_",
    "outputId": "0732e317-1add-4499-dc6c-01b65e35153e"
   },
   "outputs": [
    {
     "data": {
      "text/plain": [
       "Commodity         object\n",
       "Date              object\n",
       "Quality           object\n",
       "Location          object\n",
       "Price (per kg)    object\n",
       "dtype: object"
      ]
     },
     "execution_count": 3,
     "metadata": {},
     "output_type": "execute_result"
    }
   ],
   "source": [
    "dataframe.dtypes"
   ]
  },
  {
   "cell_type": "markdown",
   "metadata": {},
   "source": [
    "## Storing a copy of a dataframe."
   ]
  },
  {
   "cell_type": "code",
   "execution_count": 4,
   "metadata": {
    "id": "f9bNrZk1gtWq"
   },
   "outputs": [],
   "source": [
    "df= dataframe.copy()"
   ]
  },
  {
   "cell_type": "markdown",
   "metadata": {},
   "source": [
    "## Analysing the copied dataset."
   ]
  },
  {
   "cell_type": "code",
   "execution_count": 5,
   "metadata": {
    "colab": {
     "base_uri": "https://localhost:8080/",
     "height": 206
    },
    "id": "iDKCu48QgzxB",
    "outputId": "49234dca-0106-46e3-f128-5126c3a7dd5d",
    "scrolled": true
   },
   "outputs": [
    {
     "data": {
      "text/html": [
       "<div>\n",
       "<style scoped>\n",
       "    .dataframe tbody tr th:only-of-type {\n",
       "        vertical-align: middle;\n",
       "    }\n",
       "\n",
       "    .dataframe tbody tr th {\n",
       "        vertical-align: top;\n",
       "    }\n",
       "\n",
       "    .dataframe thead th {\n",
       "        text-align: right;\n",
       "    }\n",
       "</style>\n",
       "<table border=\"1\" class=\"dataframe\">\n",
       "  <thead>\n",
       "    <tr style=\"text-align: right;\">\n",
       "      <th></th>\n",
       "      <th>Commodity</th>\n",
       "      <th>Date</th>\n",
       "      <th>Quality</th>\n",
       "      <th>Location</th>\n",
       "      <th>Price (per kg)</th>\n",
       "    </tr>\n",
       "  </thead>\n",
       "  <tbody>\n",
       "    <tr>\n",
       "      <th>0</th>\n",
       "      <td>Coriander</td>\n",
       "      <td>14-Jul</td>\n",
       "      <td>Coriander Seeds Eagle,GST &amp; Freight extra at a...</td>\n",
       "      <td>Pratapgarh(Rajasthan)</td>\n",
       "      <td>75</td>\n",
       "    </tr>\n",
       "    <tr>\n",
       "      <th>1</th>\n",
       "      <td>Coriander</td>\n",
       "      <td>14-Jul</td>\n",
       "      <td>Coriander Seeds Badami,GST &amp; Freight extra at ...</td>\n",
       "      <td>Pratapgarh(Rajasthan)</td>\n",
       "      <td>67</td>\n",
       "    </tr>\n",
       "    <tr>\n",
       "      <th>2</th>\n",
       "      <td>Cumin seeds</td>\n",
       "      <td>14-Jul</td>\n",
       "      <td>Singapore 99</td>\n",
       "      <td>Pratapgarh(Rajasthan)</td>\n",
       "      <td>640</td>\n",
       "    </tr>\n",
       "    <tr>\n",
       "      <th>3</th>\n",
       "      <td>Turmeric</td>\n",
       "      <td>14-Jul</td>\n",
       "      <td>Turmeric powder Curcumin content- around 3 % M...</td>\n",
       "      <td>Sangli(Maharashtra)</td>\n",
       "      <td>123</td>\n",
       "    </tr>\n",
       "    <tr>\n",
       "      <th>4</th>\n",
       "      <td>Dry Chilli</td>\n",
       "      <td>14-Jul</td>\n",
       "      <td>Teja Stem</td>\n",
       "      <td>Guntur(Andhra Pradesh)</td>\n",
       "      <td>245</td>\n",
       "    </tr>\n",
       "  </tbody>\n",
       "</table>\n",
       "</div>"
      ],
      "text/plain": [
       "     Commodity    Date                                            Quality  \\\n",
       "0    Coriander  14-Jul  Coriander Seeds Eagle,GST & Freight extra at a...   \n",
       "1    Coriander  14-Jul  Coriander Seeds Badami,GST & Freight extra at ...   \n",
       "2  Cumin seeds  14-Jul                                       Singapore 99   \n",
       "3     Turmeric  14-Jul  Turmeric powder Curcumin content- around 3 % M...   \n",
       "4   Dry Chilli  14-Jul                                          Teja Stem   \n",
       "\n",
       "                 Location Price (per kg)  \n",
       "0   Pratapgarh(Rajasthan)             75  \n",
       "1   Pratapgarh(Rajasthan)             67  \n",
       "2   Pratapgarh(Rajasthan)            640  \n",
       "3     Sangli(Maharashtra)            123  \n",
       "4  Guntur(Andhra Pradesh)            245  "
      ]
     },
     "execution_count": 5,
     "metadata": {},
     "output_type": "execute_result"
    }
   ],
   "source": [
    "df.head()"
   ]
  },
  {
   "cell_type": "markdown",
   "metadata": {},
   "source": [
    "# EDA (Exploratory Data Analysis)"
   ]
  },
  {
   "cell_type": "markdown",
   "metadata": {},
   "source": [
    "## Analysing the info of dataframe."
   ]
  },
  {
   "cell_type": "code",
   "execution_count": 6,
   "metadata": {
    "colab": {
     "base_uri": "https://localhost:8080/"
    },
    "id": "-Enx2AdTUGE_",
    "outputId": "ce3666a7-f644-4109-ddd1-2b494e9935e4"
   },
   "outputs": [
    {
     "data": {
      "text/plain": [
       "<bound method DataFrame.info of         Commodity    Date                                            Quality  \\\n",
       "0       Coriander  14-Jul  Coriander Seeds Eagle,GST & Freight extra at a...   \n",
       "1       Coriander  14-Jul  Coriander Seeds Badami,GST & Freight extra at ...   \n",
       "2     Cumin seeds  14-Jul                                       Singapore 99   \n",
       "3        Turmeric  14-Jul  Turmeric powder Curcumin content- around 3 % M...   \n",
       "4      Dry Chilli  14-Jul                                          Teja Stem   \n",
       "...           ...     ...                                                ...   \n",
       "1582   Dry Chilli   9-Aug       WONDERHOT DOUBLE PATTA SUPER DELUX WITH STEM   \n",
       "1583   Dry Chilli   9-Aug             WONDERHOT SINGAL PATTA DELUX WITH STEM   \n",
       "1584     Turmeric   9-Aug                        Haldi Nizamabad gulab brand   \n",
       "1585     Turmeric   9-Aug                          Haldi Salem singal polish   \n",
       "1586     Turmeric   9-Aug                                Haldi GATHHA police   \n",
       "\n",
       "                    Location Price (per kg)  \n",
       "0      Pratapgarh(Rajasthan)             75  \n",
       "1      Pratapgarh(Rajasthan)             67  \n",
       "2      Pratapgarh(Rajasthan)            640  \n",
       "3        Sangli(Maharashtra)            123  \n",
       "4     Guntur(Andhra Pradesh)            245  \n",
       "...                      ...            ...  \n",
       "1582      Jodhpur(Rajasthan)            360  \n",
       "1583      Jodhpur(Rajasthan)            320  \n",
       "1584      Jodhpur(Rajasthan)            150  \n",
       "1585      Jodhpur(Rajasthan)            145  \n",
       "1586      Jodhpur(Rajasthan)            140  \n",
       "\n",
       "[1587 rows x 5 columns]>"
      ]
     },
     "execution_count": 6,
     "metadata": {},
     "output_type": "execute_result"
    }
   ],
   "source": [
    "dataframe.info"
   ]
  },
  {
   "cell_type": "markdown",
   "metadata": {},
   "source": [
    "## Analysing the description of dataframe."
   ]
  },
  {
   "cell_type": "code",
   "execution_count": 7,
   "metadata": {
    "colab": {
     "base_uri": "https://localhost:8080/"
    },
    "id": "x69MVrU6UaWg",
    "outputId": "d15eb0a4-59ab-487a-e3b1-7cfaa992a288"
   },
   "outputs": [
    {
     "data": {
      "text/plain": [
       "<bound method NDFrame.describe of         Commodity    Date                                            Quality  \\\n",
       "0       Coriander  14-Jul  Coriander Seeds Eagle,GST & Freight extra at a...   \n",
       "1       Coriander  14-Jul  Coriander Seeds Badami,GST & Freight extra at ...   \n",
       "2     Cumin seeds  14-Jul                                       Singapore 99   \n",
       "3        Turmeric  14-Jul  Turmeric powder Curcumin content- around 3 % M...   \n",
       "4      Dry Chilli  14-Jul                                          Teja Stem   \n",
       "...           ...     ...                                                ...   \n",
       "1582   Dry Chilli   9-Aug       WONDERHOT DOUBLE PATTA SUPER DELUX WITH STEM   \n",
       "1583   Dry Chilli   9-Aug             WONDERHOT SINGAL PATTA DELUX WITH STEM   \n",
       "1584     Turmeric   9-Aug                        Haldi Nizamabad gulab brand   \n",
       "1585     Turmeric   9-Aug                          Haldi Salem singal polish   \n",
       "1586     Turmeric   9-Aug                                Haldi GATHHA police   \n",
       "\n",
       "                    Location Price (per kg)  \n",
       "0      Pratapgarh(Rajasthan)             75  \n",
       "1      Pratapgarh(Rajasthan)             67  \n",
       "2      Pratapgarh(Rajasthan)            640  \n",
       "3        Sangli(Maharashtra)            123  \n",
       "4     Guntur(Andhra Pradesh)            245  \n",
       "...                      ...            ...  \n",
       "1582      Jodhpur(Rajasthan)            360  \n",
       "1583      Jodhpur(Rajasthan)            320  \n",
       "1584      Jodhpur(Rajasthan)            150  \n",
       "1585      Jodhpur(Rajasthan)            145  \n",
       "1586      Jodhpur(Rajasthan)            140  \n",
       "\n",
       "[1587 rows x 5 columns]>"
      ]
     },
     "execution_count": 7,
     "metadata": {},
     "output_type": "execute_result"
    }
   ],
   "source": [
    "dataframe.describe"
   ]
  },
  {
   "cell_type": "markdown",
   "metadata": {},
   "source": [
    "## Analysing null values of dataframe."
   ]
  },
  {
   "cell_type": "code",
   "execution_count": 8,
   "metadata": {
    "colab": {
     "base_uri": "https://localhost:8080/"
    },
    "id": "Vbyt-1YwUfhe",
    "outputId": "c28b231e-5f10-4c2c-8cf0-d389b237464a"
   },
   "outputs": [
    {
     "data": {
      "text/plain": [
       "Commodity         0\n",
       "Date              0\n",
       "Quality           0\n",
       "Location          0\n",
       "Price (per kg)    0\n",
       "dtype: int64"
      ]
     },
     "execution_count": 8,
     "metadata": {},
     "output_type": "execute_result"
    }
   ],
   "source": [
    "dataframe.isnull().sum()"
   ]
  },
  {
   "cell_type": "markdown",
   "metadata": {},
   "source": [
    "## Analysing duplicated values of dataframe."
   ]
  },
  {
   "cell_type": "code",
   "execution_count": 9,
   "metadata": {},
   "outputs": [
    {
     "data": {
      "text/plain": [
       "5"
      ]
     },
     "execution_count": 9,
     "metadata": {},
     "output_type": "execute_result"
    }
   ],
   "source": [
    "dataframe.duplicated().sum()"
   ]
  },
  {
   "cell_type": "markdown",
   "metadata": {},
   "source": [
    "## Droping the duplicated values of dataframe. And analysing the dataframe."
   ]
  },
  {
   "cell_type": "code",
   "execution_count": 10,
   "metadata": {},
   "outputs": [],
   "source": [
    "dataframe.drop_duplicates(inplace = True)"
   ]
  },
  {
   "cell_type": "code",
   "execution_count": 11,
   "metadata": {},
   "outputs": [
    {
     "data": {
      "text/plain": [
       "0"
      ]
     },
     "execution_count": 11,
     "metadata": {},
     "output_type": "execute_result"
    }
   ],
   "source": [
    "dataframe.duplicated().sum()"
   ]
  },
  {
   "cell_type": "code",
   "execution_count": 12,
   "metadata": {},
   "outputs": [
    {
     "data": {
      "text/plain": [
       "Commodity         0\n",
       "Date              0\n",
       "Quality           0\n",
       "Location          0\n",
       "Price (per kg)    0\n",
       "dtype: int64"
      ]
     },
     "execution_count": 12,
     "metadata": {},
     "output_type": "execute_result"
    }
   ],
   "source": [
    "dataframe.isnull().sum()"
   ]
  },
  {
   "cell_type": "markdown",
   "metadata": {},
   "source": [
    "## Analysing the columns of dataframe."
   ]
  },
  {
   "cell_type": "code",
   "execution_count": 13,
   "metadata": {
    "colab": {
     "base_uri": "https://localhost:8080/"
    },
    "id": "AJPD19FHUms-",
    "outputId": "afe3a69c-0d5c-418c-b388-d7d27b6b5f14"
   },
   "outputs": [
    {
     "data": {
      "text/plain": [
       "Index(['Commodity', 'Date', 'Quality', 'Location', 'Price (per kg)'], dtype='object')"
      ]
     },
     "execution_count": 13,
     "metadata": {},
     "output_type": "execute_result"
    }
   ],
   "source": [
    "columns=dataframe.columns\n",
    "columns"
   ]
  },
  {
   "cell_type": "markdown",
   "metadata": {},
   "source": [
    "## Analysing the unique values of the brand column of dataframe."
   ]
  },
  {
   "cell_type": "code",
   "execution_count": 14,
   "metadata": {
    "colab": {
     "base_uri": "https://localhost:8080/"
    },
    "id": "NvZqI-v3VY9R",
    "outputId": "ffa809a2-1084-47d7-b38b-e53fe94866ce"
   },
   "outputs": [
    {
     "data": {
      "text/plain": [
       "array(['Coriander Seeds Eagle,GST & Freight extra at actual',\n",
       "       'Coriander Seeds Badami,GST & Freight extra at actual',\n",
       "       'Singapore 99',\n",
       "       'Turmeric powder Curcumin content- around 3 % Moisture- less than5%',\n",
       "       'Teja Stem', 'Teja stem less', 'Teja Stem Cut', 'Sannam with stem',\n",
       "       'Sannam stem less', 'Syngenta Bydigi Stem',\n",
       "       'Syngenta Bydigi Stem less', '1.5 % Powder', '2 % Powder',\n",
       "       '2.5 Powder', '3 % Powder', 'Yellow Powder', 'Orange Powder',\n",
       "       'Chilli Flakes (Low)', 'Chilli Flakes (Medium)',\n",
       "       'Chilli Flakes (Reguler)', 'Chilli Flakes (Deluxe)',\n",
       "       'M Lower (M Lower)', 'Medium Grade', 'Chilli Powder Lower Grade',\n",
       "       'Chilli Powder Medium Lower', 'CHILLI POWDER (60 ASTA / 70k SHU )',\n",
       "       'CHILLI POWDER (60 ASTA / 30k SHU)',\n",
       "       'Dehydrated Red Chilli powder', 'Dehydrated Cumin powder', '1%',\n",
       "       '1.50%', '2%', '2.50%', '3%', '4%', '5%',\n",
       "       'Turmeric powder best quality', 'Chilli powder', 'Chilli flake',\n",
       "       'Turmeric finger', 'Coriander seeds', 'Coriander powder',\n",
       "       'Cumin Seeds Singapore 99', 'Cumin Seeds Powder',\n",
       "       'Turmeric Finger Selum', 'Bulb Selum Premium Export Quality',\n",
       "       'Eagle', 'Eagle plus', 'Scooter', 'Scooter plus', 'Single parrot',\n",
       "       'Double polished turmeric finger + Gst', 'Farmers Grade',\n",
       "       'Domestic Quality', 'Quality Scooter',\n",
       "       'Turmeric powder,Curcumin content- 1%',\n",
       "       'Turmeric powder,Curcumin content- 1.5%',\n",
       "       'Turmeric powder,Curcumin content- 2%',\n",
       "       'Turmeric powder,Curcumin content- 2.5%',\n",
       "       'Turmeric powder,Curcumin content- 3%',\n",
       "       'Turmeric powder,Curcumin content- 4%',\n",
       "       'Turmeric powder,Curcumin content- 5%', 'Chilli Powder (Kashmiri)',\n",
       "       'Chilli Powder (A Grade)', 'Chilli Powder (B Grade)',\n",
       "       'Chilli Powder (C Grade)', 'Chilli Powder (D Grade)',\n",
       "       'Chilli Powder (Russia Grade)', 'Cumin Powder (Premium)',\n",
       "       'Cumin Powder (Medium)', 'Cumin Powder (Regular)',\n",
       "       'Cumin Powder (Low)', 'Coriander Powder (Premium)',\n",
       "       'Coriander Powder (Medium)', 'Coriander Powder (Regular)',\n",
       "       'Coriander Powder (Low)', 'SANIYA SUPER DELUX WITH STEM',\n",
       "       'SANIYA SUPER DELUX WITHOUT STEM', 'REVA SUPER DELUX WITH STEM',\n",
       "       'PUNJAB AVERAGE BEST WITH STEM', 'WONDERHOT SUPER DELUX WITH STEM',\n",
       "       'WONDERHOT SINGAL PATTI WITH STEM',\n",
       "       'TURMARIC NIZAMABAD DOUBLE POLICE GATHA',\n",
       "       'TURMARIC SALEM SINGAL POLICE FALI',\n",
       "       'TURMARIC NIJAMABAD DOUBLE POLICE', 'Extra bold + 5% GST',\n",
       "       'Diamond + 5% GST', 'Bombay bold + 5% GST', 'Jupiter + 5% GST',\n",
       "       'Vivo + 5% GST', 'Bold Eagle + 5% GST', 'Bold Eagle plus + 5% GST',\n",
       "       'Bold Scooter + 5% GST', 'Bold Scooter plus + 5% GST',\n",
       "       'Bold Diamond + 5% GST', 'Bold Singal parrot + 5% GST',\n",
       "       'Split Eagle + 5% GST', 'Split Eagle plus + 5% GST',\n",
       "       'Split Scooter + 5% GST', 'Small Eagle plus(royal) + 5% GST',\n",
       "       'Small Scooter (seven star)+ 5% GST',\n",
       "       'Small Single parrot (ever green) + 5% GST', 'Badami loose',\n",
       "       'Eagle loose', 'Scooter loose', 'Double parrot and extra green',\n",
       "       'Dal(Eagle)', 'Eagle + GST', 'SANIYA SUPER DELUX STEMLESS',\n",
       "       'REVA SUPER DELUX WITH STEAM',\n",
       "       'WONDERHOT PLAIN DOUBLE PATTA DELUX WITH STEM',\n",
       "       'WONDERHOT SINGAL PATTA WITH STEM',\n",
       "       'TURMARIC NIZAMABAD DOUBLE POLICE', 'SALEM SINGAL POLICE',\n",
       "       'NIZAMABAD GATTHA DOUBLE POLICE', 'AADITYA 501 IROD GATTHA',\n",
       "       'CUMIN POWDER', 'CORIANDER POWDER', 'TURMERIC POWDER',\n",
       "       'RED CHILLY POWDER KASHMIR', 'RED CHILLY POWDER REGULAR',\n",
       "       'RED CHILLY POWDER TEJA', 'RED CHILLY POWDER LOWEST',\n",
       "       'Singapore 99.00%', 'Singapore 99.50%', 'Europe', 'Eagle Sortex',\n",
       "       'Split', 'Single Parrot', 'GOOD GRADE', 'EUROPE', 'BULB',\n",
       "       'Yellow 1%', 'Orange 1%', 'Badami', 'A grade',\n",
       "       'Kashmiri red chilli', 'Tikhala chilli powder (diamond)',\n",
       "       'Tikhala chilli powder (platinum)', 'CORIANDER EAGLE MACHINE',\n",
       "       'CORIANDER EAGLE SORTEX', 'CORIANDER SCOOTER',\n",
       "       'CORIANDER SINGLE PARROT', 'CUMIN-JEERA SINGA-PORE 99',\n",
       "       'CUMIN-JEERA EUROPE 99', 'CUMIN-JEERA BOLD',\n",
       "       'NIZAMABAD DOUBLE POLICE', 'SALAM FALI VASHNAVI 108 BRAND',\n",
       "       'NIZAMABAD GATHHA DOUBLE POLICE', 'SALEM GATHHA', 'saniya deluxe',\n",
       "       'Eagle Split', 'Eagle Machine Clean', 'Scooter Machine Clean',\n",
       "       'Cumin Seeds', 'singapor-99.99', 'europe quality', 'third grade',\n",
       "       'Eagle+', 'Dry Chilli Powder', 'Turmeric Powder',\n",
       "       'Coriander Powder', 'Kashmiri Mirch Powder', 'Bedgi Mirch',\n",
       "       'Kashmiri Mirch', 'Lavangi Mirch', 'Dhaniya(Coriander)',\n",
       "       'Dry Red Chilli with stem,Deluxe Quality',\n",
       "       'NIZAMABAD DOUBLE POLISH', 'Selam Finger', 'Teja', 'Akha Rai',\n",
       "       'Eagle Plus', 'Scooter Plus', '1 % CURCUMIN', '1.5% CURCUMIN',\n",
       "       '2% CURCUMIN', '2.5% CURCUMIN', '3% CURCUMIN',\n",
       "       'Single Polished, around 5% CURCUMIN',\n",
       "       'Double Polished, around 5% CURCUMIN', 'Teja S-17 with Stem',\n",
       "       'Teja S-17 with Stem (deluxe)', 'Red Chilli powder',\n",
       "       'Cumin powder', 'SANIYA SUP DEL.WITH STEM',\n",
       "       'SANIYA SUP.DEL.WITHOUT STEM', 'REVA SUP.DEL.WITH STEM',\n",
       "       'WONDERHOT DOUBLE PATTA SUPER DELUX WITH STEM',\n",
       "       'WONDERHOT SINGAL PATTA DELUX WITH STEM',\n",
       "       'Haldi Nizamabad gulab brand', 'Haldi Salem singal polish',\n",
       "       'Haldi GATHHA police'], dtype=object)"
      ]
     },
     "execution_count": 14,
     "metadata": {},
     "output_type": "execute_result"
    }
   ],
   "source": [
    "dataframe['Quality'].unique()"
   ]
  },
  {
   "cell_type": "markdown",
   "metadata": {},
   "source": [
    "## Analysing the unique value of all the columns of dataframe."
   ]
  },
  {
   "cell_type": "code",
   "execution_count": 15,
   "metadata": {
    "colab": {
     "base_uri": "https://localhost:8080/"
    },
    "id": "M-_WjXUeUxMO",
    "outputId": "39af95dc-3ec3-495c-b8ef-e4826f57b673"
   },
   "outputs": [
    {
     "name": "stdout",
     "output_type": "stream",
     "text": [
      "Commodity \n",
      " ['Coriander' 'Cumin seeds' 'Turmeric' 'Dry Chilli']\n",
      "-------------------------------------------------------------------------------------------------------\n",
      "Date \n",
      " ['14-Jul' '15-Jul' '17-Jul' '18-Jul' '19-Jul' '20-Jul' '21-Jul' '22-Jul'\n",
      " '24-Jul' '25-Jul' '26-Jul' '27-Jul' '28-Jul' '29-Jul' '31-Jul' '9-Aug']\n",
      "-------------------------------------------------------------------------------------------------------\n",
      "Location \n",
      " ['Pratapgarh(Rajasthan)' 'Sangli(Maharashtra)' 'Guntur(Andhra Pradesh)'\n",
      " 'Unjha / Mundra Delivery' 'Kanpur(Uttar Pradesh)' 'Shirdi(Maharashtra)'\n",
      " 'Baroda(Gujarat)' 'Nanded(Maharashtra)' 'Rajkot(Gujarat)'\n",
      " 'Behrampur(Odissa)' 'Madhavpur(Gujarat)' 'Unjha(Gujarat)'\n",
      " 'Mundra-port(Gujarat)' 'Deesa(Gujarat)' 'Jodhpur(Rajasthan)'\n",
      " 'Ramganj-Mandi(Rajasthan)' 'Udaipur(Rajasthan)' 'Kota(Rajasthan)'\n",
      " 'Kolkata(West Bengal)' 'Malad East' 'Orissa' 'Gondal (Gujarat)'\n",
      " 'Behrampur(Odisha)' 'Guntur' 'Raipur']\n",
      "-------------------------------------------------------------------------------------------------------\n",
      "Price (per kg) \n",
      " ['75' '67' '640' '123' '245' '345' '285' '240' '280' '220' '56' '66' '71'\n",
      " '81' '43' '45' '195' '250' '350' '205' '120' '100' '225' '690' '360' '80'\n",
      " '90' '95' '105' '115' '130' '290' '110' '600' '400' '74' '76' '83' '85'\n",
      " '65-69' '490' '580' '460' '98' '50' '65' '82' '500-800' '300' '160'\n",
      " '110-140' '200' '230' '410' '370' '130-300' '55-60' '270' '330' '150'\n",
      " '980' '103' '668' '648' '633' '623' '613' '73' '77' '92' '68' '87' '126'\n",
      " '50-61' '63-70' '70-78' '78-90' '95+' '70' '635' '680' '610' '595' '325'\n",
      " '125' '806' '186' '112' '930' '434' '286' '769' '770' '91' '102' '118'\n",
      " '124' '685' '48' '59' '69' '84' '128' '78' '88' '687' '667' '652' '642'\n",
      " '632' '96' '93' '129' '630' '625' '710' '63-75' '75-80' '80-90' '72'\n",
      " '678' '658' '643' '79' '135' '310' '639' '683' '663' '638' '628' '89'\n",
      " '97' '111' '650' '660' '122' '50-66' '68-79' '80-95' '665' '106' '50-68'\n",
      " '540' '677' '657' '622' '108' '605' '602' '590' '170' '730' '260' '140'\n",
      " '670' '615' '320' '604' '612' '592' '705' '86' '94' '655' '620' '109'\n",
      " '675' '700' '645' '133' '50-71' '71-80' '238' '637' '698' '653' '99'\n",
      " '120-140' '525' '400-490' '70-90' '149' '380' '145']\n",
      "-------------------------------------------------------------------------------------------------------\n"
     ]
    }
   ],
   "source": [
    "for column in columns:\n",
    "    if column == \"Quality\":\n",
    "        pass\n",
    "\n",
    "    else:\n",
    "        print(f\"{column} \\n {dataframe[column].unique()}\")\n",
    "        print(\"-------------------------------------------------------------------------------------------------------\")\n"
   ]
  },
  {
   "cell_type": "markdown",
   "metadata": {},
   "source": [
    "# Data Pre-Processing"
   ]
  },
  {
   "cell_type": "markdown",
   "metadata": {},
   "source": [
    "## Building a user defined label encoder function."
   ]
  },
  {
   "cell_type": "code",
   "execution_count": 16,
   "metadata": {
    "colab": {
     "base_uri": "https://localhost:8080/"
    },
    "id": "cvgIw7gsZc-u",
    "outputId": "0eaecc9d-57af-4eff-9c5d-c68de220b1f5"
   },
   "outputs": [],
   "source": [
    "from sklearn.preprocessing import LabelEncoder\n",
    "\n",
    "# Create an instance of the OneHotEncoder\n",
    "label_encoder = LabelEncoder()\n",
    "\n",
    "def label_encode(column):\n",
    "    \n",
    "\n",
    "    # Fit and transform the column\n",
    "    dataframe[column] = label_encoder.fit_transform(dataframe[column])\n",
    "\n",
    "    # Print the encoded DataFrame\n",
    "    print(dataframe.head())\n",
    "\n"
   ]
  },
  {
   "cell_type": "markdown",
   "metadata": {},
   "source": [
    "## Applying label encoder on all the required columns."
   ]
  },
  {
   "cell_type": "code",
   "execution_count": 17,
   "metadata": {},
   "outputs": [
    {
     "name": "stdout",
     "output_type": "stream",
     "text": [
      "     Commodity    Date  Quality                Location Price (per kg)\n",
      "0    Coriander  14-Jul       62   Pratapgarh(Rajasthan)             75\n",
      "1    Coriander  14-Jul       61   Pratapgarh(Rajasthan)             67\n",
      "2  Cumin seeds  14-Jul      140   Pratapgarh(Rajasthan)            640\n",
      "3     Turmeric  14-Jul      171     Sangli(Maharashtra)            123\n",
      "4   Dry Chilli  14-Jul      163  Guntur(Andhra Pradesh)            245\n"
     ]
    }
   ],
   "source": [
    "label_encode(\"Quality\")"
   ]
  },
  {
   "cell_type": "code",
   "execution_count": 18,
   "metadata": {},
   "outputs": [
    {
     "name": "stdout",
     "output_type": "stream",
     "text": [
      "     Commodity    Date  Quality  Location Price (per kg)\n",
      "0    Coriander  14-Jul       62        16             75\n",
      "1    Coriander  14-Jul       61        16             67\n",
      "2  Cumin seeds  14-Jul      140        16            640\n",
      "3     Turmeric  14-Jul      171        20            123\n",
      "4   Dry Chilli  14-Jul      163         6            245\n"
     ]
    }
   ],
   "source": [
    "label_encode(\"Location\")"
   ]
  },
  {
   "cell_type": "markdown",
   "metadata": {},
   "source": [
    "## Analysing theKm_driven column of dataframe."
   ]
  },
  {
   "cell_type": "code",
   "execution_count": 19,
   "metadata": {
    "colab": {
     "base_uri": "https://localhost:8080/"
    },
    "id": "XeDELzdMdYdN",
    "outputId": "6dd13990-fb38-433d-c475-acedd6c2ff93"
   },
   "outputs": [
    {
     "data": {
      "text/plain": [
       "0        75\n",
       "1        67\n",
       "2       640\n",
       "3       123\n",
       "4       245\n",
       "       ... \n",
       "1582    360\n",
       "1583    320\n",
       "1584    150\n",
       "1585    145\n",
       "1586    140\n",
       "Name: Price (per kg), Length: 1582, dtype: object"
      ]
     },
     "execution_count": 19,
     "metadata": {},
     "output_type": "execute_result"
    }
   ],
   "source": [
    "dataframe[\"Price (per kg)\"]"
   ]
  },
  {
   "cell_type": "code",
   "execution_count": 20,
   "metadata": {
    "scrolled": true
   },
   "outputs": [],
   "source": [
    "dataframe['Price (per kg)'] = pd.to_numeric(dataframe['Price (per kg)'], errors='coerce')"
   ]
  },
  {
   "cell_type": "code",
   "execution_count": 21,
   "metadata": {},
   "outputs": [
    {
     "data": {
      "text/plain": [
       "82"
      ]
     },
     "execution_count": 21,
     "metadata": {},
     "output_type": "execute_result"
    }
   ],
   "source": [
    "dataframe[\"Price (per kg)\"].isnull().sum()"
   ]
  },
  {
   "cell_type": "code",
   "execution_count": 22,
   "metadata": {},
   "outputs": [],
   "source": [
    "dataframe['Price (per kg)'] = dataframe['Price (per kg)'].fillna(dataframe['Price (per kg)'].mean())"
   ]
  },
  {
   "cell_type": "code",
   "execution_count": 23,
   "metadata": {},
   "outputs": [
    {
     "data": {
      "text/plain": [
       "Commodity          object\n",
       "Date               object\n",
       "Quality             int32\n",
       "Location            int32\n",
       "Price (per kg)    float64\n",
       "dtype: object"
      ]
     },
     "execution_count": 23,
     "metadata": {},
     "output_type": "execute_result"
    }
   ],
   "source": [
    "dataframe.dtypes"
   ]
  },
  {
   "cell_type": "markdown",
   "metadata": {},
   "source": [
    "## Splitting data into Dependent y and Independent X variables ."
   ]
  },
  {
   "cell_type": "code",
   "execution_count": 24,
   "metadata": {
    "colab": {
     "base_uri": "https://localhost:8080/"
    },
    "id": "eWlka5xfkzgq",
    "outputId": "06feb33c-4f35-4115-986b-07f91acc228a"
   },
   "outputs": [
    {
     "name": "stdout",
     "output_type": "stream",
     "text": [
      "(1582, 2)\n",
      "(1582,)\n"
     ]
    }
   ],
   "source": [
    "X= dataframe.drop([\"Price (per kg)\",\"Commodity\",\"Date\"], axis=1)\n",
    "y= dataframe[\"Price (per kg)\"]\n",
    "\n",
    "print(X.shape)\n",
    "print(y.shape)"
   ]
  },
  {
   "cell_type": "markdown",
   "metadata": {},
   "source": [
    "## Analysing the independent variable columns"
   ]
  },
  {
   "cell_type": "code",
   "execution_count": 25,
   "metadata": {
    "colab": {
     "base_uri": "https://localhost:8080/"
    },
    "id": "MFtdMi9YvbIg",
    "outputId": "c382e09a-3d6f-45bc-9493-da4da8cd9525"
   },
   "outputs": [
    {
     "data": {
      "text/plain": [
       "Index(['Quality', 'Location'], dtype='object')"
      ]
     },
     "execution_count": 25,
     "metadata": {},
     "output_type": "execute_result"
    }
   ],
   "source": [
    "X.columns"
   ]
  },
  {
   "cell_type": "code",
   "execution_count": 26,
   "metadata": {},
   "outputs": [
    {
     "data": {
      "text/plain": [
       "0"
      ]
     },
     "execution_count": 26,
     "metadata": {},
     "output_type": "execute_result"
    }
   ],
   "source": [
    "y.isnull().sum()"
   ]
  },
  {
   "cell_type": "markdown",
   "metadata": {},
   "source": [
    "## Plotting and Analysing correlation table."
   ]
  },
  {
   "cell_type": "code",
   "execution_count": 27,
   "metadata": {
    "colab": {
     "base_uri": "https://localhost:8080/",
     "height": 1000
    },
    "id": "2OmllS0kl7ny",
    "outputId": "2b8c27ed-7865-4bae-89df-52e63e1311f5"
   },
   "outputs": [
    {
     "data": {
      "image/png": "[encoded data removed]",
      "text/plain": [
       "<Figure size 200x200 with 2 Axes>"
      ]
     },
     "metadata": {},
     "output_type": "display_data"
    }
   ],
   "source": [
    "corr= X.corr()\n",
    "plt.figure(figsize=(2,2))\n",
    "sns.heatmap(corr, annot=True, cmap='coolwarm')\n",
    "plt.show()"
   ]
  },
  {
   "cell_type": "markdown",
   "metadata": {},
   "source": [
    "## Filtering the correlation table."
   ]
  },
  {
   "cell_type": "code",
   "execution_count": 28,
   "metadata": {
    "colab": {
     "base_uri": "https://localhost:8080/"
    },
    "id": "l7jIEnaHp7gO",
    "outputId": "c040b825-a37b-4e89-ab68-38c2b8845819"
   },
   "outputs": [
    {
     "data": {
      "text/plain": [
       "Index(['Quality', 'Location'], dtype='object')"
      ]
     },
     "execution_count": 28,
     "metadata": {},
     "output_type": "execute_result"
    }
   ],
   "source": [
    "# Identify columns to drop\n",
    "columns_to_drop = corr.columns[((corr.abs() > 0.75) & (corr.abs() > -0.75)).any()]\n",
    "\n",
    "columns_to_drop"
   ]
  },
  {
   "cell_type": "markdown",
   "metadata": {},
   "source": [
    "## Building a user defined function to filter."
   ]
  },
  {
   "cell_type": "code",
   "execution_count": 29,
   "metadata": {
    "id": "Sf1DJiri1UAC"
   },
   "outputs": [],
   "source": [
    "def correlation(dataset, threshold1, threshold2):\n",
    "    corr_= set()\n",
    "    corr =  dataset.corr()\n",
    "    for i in range(len(corr.columns)):\n",
    "        for j in range(i):\n",
    "            if abs(((corr.iloc[i, j]) > threshold1) | ((corr.iloc[i, j]) < threshold2)):\n",
    "                colname_i = corr.columns[i]\n",
    "                corr_.add(colname_i)\n",
    "    return corr_"
   ]
  },
  {
   "cell_type": "code",
   "execution_count": 30,
   "metadata": {
    "colab": {
     "base_uri": "https://localhost:8080/"
    },
    "id": "8nv6I5HXroXM",
    "outputId": "44f7ea21-6730-4ab7-a2af-e3afba9793ec"
   },
   "outputs": [
    {
     "data": {
      "text/plain": [
       "set()"
      ]
     },
     "execution_count": 30,
     "metadata": {},
     "output_type": "execute_result"
    }
   ],
   "source": [
    "correlation(X, 0.75, -0.75)"
   ]
  },
  {
   "cell_type": "code",
   "execution_count": 31,
   "metadata": {
    "colab": {
     "base_uri": "https://localhost:8080/"
    },
    "id": "QP4-jbDc5s27",
    "outputId": "a72cefee-a650-4ed5-891e-d77f3522e62a"
   },
   "outputs": [
    {
     "data": {
      "text/plain": [
       "0"
      ]
     },
     "execution_count": 31,
     "metadata": {},
     "output_type": "execute_result"
    }
   ],
   "source": [
    "len(correlation(X, 0.75, -0.75))"
   ]
  },
  {
   "cell_type": "code",
   "execution_count": 32,
   "metadata": {
    "colab": {
     "base_uri": "https://localhost:8080/"
    },
    "id": "aropDL7HBiUX",
    "outputId": "9c93efdc-18d4-4f55-8a58-6a83ad824b89"
   },
   "outputs": [
    {
     "data": {
      "text/plain": [
       "(1582, 2)"
      ]
     },
     "execution_count": 32,
     "metadata": {},
     "output_type": "execute_result"
    }
   ],
   "source": [
    "X.shape"
   ]
  },
  {
   "cell_type": "code",
   "execution_count": 33,
   "metadata": {
    "colab": {
     "base_uri": "https://localhost:8080/",
     "height": 1000
    },
    "id": "W56K3LM7sfvM",
    "outputId": "b82b39e1-7bb8-4fb1-f8bf-cd4e76578e62"
   },
   "outputs": [
    {
     "data": {
      "image/png": "[encoded data removed]",
      "text/plain": [
       "<Figure size 200x200 with 2 Axes>"
      ]
     },
     "metadata": {},
     "output_type": "display_data"
    }
   ],
   "source": [
    "cr = X.corr()\n",
    "\n",
    "plt.figure(figsize=(2,2))\n",
    "sns.heatmap(cr, annot=True, cmap='coolwarm')\n",
    "plt.show()"
   ]
  },
  {
   "cell_type": "markdown",
   "metadata": {},
   "source": [
    "## Sacling the X variables and building Standard Scaler model"
   ]
  },
  {
   "cell_type": "code",
   "execution_count": 34,
   "metadata": {
    "id": "8Kx3LFUlskVs"
   },
   "outputs": [],
   "source": [
    "from sklearn.preprocessing import StandardScaler\n",
    "scale = StandardScaler()"
   ]
  },
  {
   "cell_type": "markdown",
   "metadata": {
    "id": "Lj3FMY2jCMoD"
   },
   "source": [
    "## Fitting and transforming the data for scaling."
   ]
  },
  {
   "cell_type": "code",
   "execution_count": 35,
   "metadata": {
    "id": "Ev9isLDEC1ve"
   },
   "outputs": [],
   "source": [
    "X_scaled = scale.fit_transform(X)"
   ]
  },
  {
   "cell_type": "code",
   "execution_count": 36,
   "metadata": {
    "colab": {
     "base_uri": "https://localhost:8080/"
    },
    "id": "pzCheafYC1y9",
    "outputId": "0e774b9e-5c75-4bd6-ce25-d24d9be5828a"
   },
   "outputs": [
    {
     "data": {
      "text/plain": [
       "array([[-0.56509593,  0.22023872],\n",
       "       [-0.58322576,  0.22023872],\n",
       "       [ 0.84903057,  0.22023872],\n",
       "       ...,\n",
       "       [ 0.10570766, -0.84525868],\n",
       "       [ 0.12383749, -0.84525868],\n",
       "       [ 0.08757784, -0.84525868]])"
      ]
     },
     "execution_count": 36,
     "metadata": {},
     "output_type": "execute_result"
    }
   ],
   "source": [
    "X_scaled"
   ]
  },
  {
   "cell_type": "markdown",
   "metadata": {},
   "source": [
    "## Spliting data into train and test data"
   ]
  },
  {
   "cell_type": "code",
   "execution_count": 37,
   "metadata": {
    "id": "pwsRz55VCPUd"
   },
   "outputs": [],
   "source": [
    "from sklearn.model_selection import train_test_split\n",
    "x_train,x_test,y_train,y_test=train_test_split(X_scaled,y,test_size=.20,random_state=4)"
   ]
  },
  {
   "cell_type": "markdown",
   "metadata": {},
   "source": [
    "## Building a user defined function for evaluationg the model test, train accuracy score."
   ]
  },
  {
   "cell_type": "code",
   "execution_count": 38,
   "metadata": {
    "id": "zTmujGFRDI60"
   },
   "outputs": [],
   "source": [
    "def evaluate_score(model):\n",
    "    from sklearn.metrics import r2_score, mean_absolute_error, mean_squared_error\n",
    "    import math\n",
    "    model.fit(x_train,y_train)\n",
    "    y_pred=model.predict(x_test)\n",
    "\n",
    "    print(f\"*---------------------------------------Score_{model}-------------------------------------*\")\n",
    "    rr= r2_score(y_test, y_pred)\n",
    "    print(f\"The R2_Score is :- {rr} \\n\")\n",
    "\n",
    "    # Evaluate the model on the training data\n",
    "    train_score = model.score(x_train, y_train)\n",
    "\n",
    "    # Evaluate the model on the test data\n",
    "    test_score = model.score(x_test, y_test)\n",
    "\n",
    "    # Print the training and test scores\n",
    "    print(f\"Training Score: {train_score} \\n\")\n",
    "    print(f\"Test Score: {test_score} \\n \" )\n",
    "\n",
    "\n"
   ]
  },
  {
   "cell_type": "markdown",
   "metadata": {},
   "source": [
    "# Applying various Machine Learning model"
   ]
  },
  {
   "cell_type": "markdown",
   "metadata": {},
   "source": [
    "## Building and fitting Linear Regression ML model"
   ]
  },
  {
   "cell_type": "code",
   "execution_count": 39,
   "metadata": {
    "id": "_zi3jYksHiPu"
   },
   "outputs": [],
   "source": [
    "from sklearn.linear_model import LinearRegression\n",
    "lr = LinearRegression()"
   ]
  },
  {
   "cell_type": "markdown",
   "metadata": {},
   "source": [
    "## Analysing the evaluated score."
   ]
  },
  {
   "cell_type": "code",
   "execution_count": 40,
   "metadata": {
    "colab": {
     "base_uri": "https://localhost:8080/"
    },
    "id": "dFAIwhi_Hyc5",
    "outputId": "2c1a1cce-586a-4184-8a57-2803b160f757"
   },
   "outputs": [
    {
     "name": "stdout",
     "output_type": "stream",
     "text": [
      "*---------------------------------------Score_LinearRegression()-------------------------------------*\n",
      "The R2_Score is :- 0.007338216062182101 \n",
      "\n",
      "Training Score: 0.0034804413772182574 \n",
      "\n",
      "Test Score: 0.007338216062182101 \n",
      " \n"
     ]
    }
   ],
   "source": [
    "evaluate_score(lr)"
   ]
  },
  {
   "cell_type": "markdown",
   "metadata": {},
   "source": [
    "## Building and fitting Random Forest Regressor ML model"
   ]
  },
  {
   "cell_type": "code",
   "execution_count": 59,
   "metadata": {
    "id": "QXyr-rO-H25m"
   },
   "outputs": [],
   "source": [
    "from sklearn.ensemble import RandomForestRegressor\n",
    "rfc= RandomForestRegressor(n_estimators=300,criterion='poisson', max_depth= 10, max_samples=0.8)"
   ]
  },
  {
   "cell_type": "markdown",
   "metadata": {},
   "source": [
    "## Analysing the evaluated score."
   ]
  },
  {
   "cell_type": "code",
   "execution_count": 60,
   "metadata": {
    "colab": {
     "base_uri": "https://localhost:8080/"
    },
    "id": "B9JgWJNPLvow",
    "outputId": "e886f9a7-d784-4082-92c4-7a06de7e239a"
   },
   "outputs": [
    {
     "name": "stdout",
     "output_type": "stream",
     "text": [
      "*---------------------------------------Score_RandomForestRegressor(criterion='poisson', max_depth=10, max_samples=0.8,\n",
      "                      n_estimators=300)-------------------------------------*\n",
      "The R2_Score is :- 0.9234720062438716 \n",
      "\n",
      "Training Score: 0.9249370278004774 \n",
      "\n",
      "Test Score: 0.9234720062438716 \n",
      " \n"
     ]
    }
   ],
   "source": [
    "evaluate_score(rfc)"
   ]
  },
  {
   "cell_type": "markdown",
   "metadata": {},
   "source": [
    "## Building and fitting Bagging Regression ML model"
   ]
  },
  {
   "cell_type": "code",
   "execution_count": 43,
   "metadata": {
    "id": "3-cvULKeLy6o"
   },
   "outputs": [],
   "source": [
    "from sklearn.ensemble import BaggingRegressor\n",
    "bg = BaggingRegressor(n_estimators=500, verbose= 1)"
   ]
  },
  {
   "cell_type": "markdown",
   "metadata": {},
   "source": [
    "## Analysing the evaluated score."
   ]
  },
  {
   "cell_type": "code",
   "execution_count": 44,
   "metadata": {
    "colab": {
     "base_uri": "https://localhost:8080/"
    },
    "id": "19A0IKJCNPfY",
    "outputId": "b35d7b18-7cc4-4c17-988f-10eb16bfee1a"
   },
   "outputs": [
    {
     "name": "stderr",
     "output_type": "stream",
     "text": [
      "[Parallel(n_jobs=1)]: Using backend SequentialBackend with 1 concurrent workers.\n",
      "[Parallel(n_jobs=1)]: Done   1 out of   1 | elapsed:    1.2s finished\n",
      "[Parallel(n_jobs=1)]: Using backend SequentialBackend with 1 concurrent workers.\n",
      "[Parallel(n_jobs=1)]: Done   1 out of   1 | elapsed:    0.0s finished\n",
      "[Parallel(n_jobs=1)]: Using backend SequentialBackend with 1 concurrent workers.\n",
      "[Parallel(n_jobs=1)]: Done   1 out of   1 | elapsed:    0.0s finished\n",
      "[Parallel(n_jobs=1)]: Using backend SequentialBackend with 1 concurrent workers.\n"
     ]
    },
    {
     "name": "stdout",
     "output_type": "stream",
     "text": [
      "*---------------------------------------Score_BaggingRegressor(n_estimators=500, verbose=1)-------------------------------------*\n",
      "The R2_Score is :- 0.9969534849062663 \n",
      "\n",
      "Training Score: 0.9957363862682392 \n",
      "\n",
      "Test Score: 0.9969534849062663 \n",
      " \n"
     ]
    },
    {
     "name": "stderr",
     "output_type": "stream",
     "text": [
      "[Parallel(n_jobs=1)]: Done   1 out of   1 | elapsed:    0.0s finished\n"
     ]
    }
   ],
   "source": [
    "evaluate_score(bg)"
   ]
  },
  {
   "cell_type": "markdown",
   "metadata": {},
   "source": [
    "## Building and fitting Extra Tree Regressor ML model"
   ]
  },
  {
   "cell_type": "code",
   "execution_count": 63,
   "metadata": {
    "id": "0Vt1pWQ5NTBn"
   },
   "outputs": [],
   "source": [
    "from sklearn.ensemble import ExtraTreesRegressor\n",
    "etr=ExtraTreesRegressor(n_estimators=100, max_depth=5, criterion=\"absolute_error\")"
   ]
  },
  {
   "cell_type": "markdown",
   "metadata": {},
   "source": [
    "## Analysing the evaluated score."
   ]
  },
  {
   "cell_type": "code",
   "execution_count": 64,
   "metadata": {
    "colab": {
     "base_uri": "https://localhost:8080/"
    },
    "id": "ZbYYXnuYPq1Q",
    "outputId": "5eea86ee-696d-4f18-99cd-6a02f530d2d1"
   },
   "outputs": [
    {
     "name": "stdout",
     "output_type": "stream",
     "text": [
      "*---------------------------------------Score_ExtraTreesRegressor(criterion='absolute_error', max_depth=5)-------------------------------------*\n",
      "The R2_Score is :- 0.3222581223232843 \n",
      "\n",
      "Training Score: 0.318766780299405 \n",
      "\n",
      "Test Score: 0.3222581223232843 \n",
      " \n"
     ]
    }
   ],
   "source": [
    "evaluate_score(etr)"
   ]
  },
  {
   "cell_type": "markdown",
   "metadata": {},
   "source": [
    "## Building and fitting Polynomial RegressionML model"
   ]
  },
  {
   "cell_type": "code",
   "execution_count": 47,
   "metadata": {
    "id": "5YJgCH24PwqM"
   },
   "outputs": [
    {
     "data": {
      "text/html": [
       "<style>#sk-container-id-1 {color: black;}#sk-container-id-1 pre{padding: 0;}#sk-container-id-1 div.sk-toggleable {background-color: white;}#sk-container-id-1 label.sk-toggleable__label {cursor: pointer;display: block;width: 100%;margin-bottom: 0;padding: 0.3em;box-sizing: border-box;text-align: center;}#sk-container-id-1 label.sk-toggleable__label-arrow:before {content: \"▸\";float: left;margin-right: 0.25em;color: #696969;}#sk-container-id-1 label.sk-toggleable__label-arrow:hover:before {color: black;}#sk-container-id-1 div.sk-estimator:hover label.sk-toggleable__label-arrow:before {color: black;}#sk-container-id-1 div.sk-toggleable__content {max-height: 0;max-width: 0;overflow: hidden;text-align: left;background-color: #f0f8ff;}#sk-container-id-1 div.sk-toggleable__content pre {margin: 0.2em;color: black;border-radius: 0.25em;background-color: #f0f8ff;}#sk-container-id-1 input.sk-toggleable__control:checked~div.sk-toggleable__content {max-height: 200px;max-width: 100%;overflow: auto;}#sk-container-id-1 input.sk-toggleable__control:checked~label.sk-toggleable__label-arrow:before {content: \"▾\";}#sk-container-id-1 div.sk-estimator input.sk-toggleable__control:checked~label.sk-toggleable__label {background-color: #d4ebff;}#sk-container-id-1 div.sk-label input.sk-toggleable__control:checked~label.sk-toggleable__label {background-color: #d4ebff;}#sk-container-id-1 input.sk-hidden--visually {border: 0;clip: rect(1px 1px 1px 1px);clip: rect(1px, 1px, 1px, 1px);height: 1px;margin: -1px;overflow: hidden;padding: 0;position: absolute;width: 1px;}#sk-container-id-1 div.sk-estimator {font-family: monospace;background-color: #f0f8ff;border: 1px dotted black;border-radius: 0.25em;box-sizing: border-box;margin-bottom: 0.5em;}#sk-container-id-1 div.sk-estimator:hover {background-color: #d4ebff;}#sk-container-id-1 div.sk-parallel-item::after {content: \"\";width: 100%;border-bottom: 1px solid gray;flex-grow: 1;}#sk-container-id-1 div.sk-label:hover label.sk-toggleable__label {background-color: #d4ebff;}#sk-container-id-1 div.sk-serial::before {content: \"\";position: absolute;border-left: 1px solid gray;box-sizing: border-box;top: 0;bottom: 0;left: 50%;z-index: 0;}#sk-container-id-1 div.sk-serial {display: flex;flex-direction: column;align-items: center;background-color: white;padding-right: 0.2em;padding-left: 0.2em;position: relative;}#sk-container-id-1 div.sk-item {position: relative;z-index: 1;}#sk-container-id-1 div.sk-parallel {display: flex;align-items: stretch;justify-content: center;background-color: white;position: relative;}#sk-container-id-1 div.sk-item::before, #sk-container-id-1 div.sk-parallel-item::before {content: \"\";position: absolute;border-left: 1px solid gray;box-sizing: border-box;top: 0;bottom: 0;left: 50%;z-index: -1;}#sk-container-id-1 div.sk-parallel-item {display: flex;flex-direction: column;z-index: 1;position: relative;background-color: white;}#sk-container-id-1 div.sk-parallel-item:first-child::after {align-self: flex-end;width: 50%;}#sk-container-id-1 div.sk-parallel-item:last-child::after {align-self: flex-start;width: 50%;}#sk-container-id-1 div.sk-parallel-item:only-child::after {width: 0;}#sk-container-id-1 div.sk-dashed-wrapped {border: 1px dashed gray;margin: 0 0.4em 0.5em 0.4em;box-sizing: border-box;padding-bottom: 0.4em;background-color: white;}#sk-container-id-1 div.sk-label label {font-family: monospace;font-weight: bold;display: inline-block;line-height: 1.2em;}#sk-container-id-1 div.sk-label-container {text-align: center;}#sk-container-id-1 div.sk-container {/* jupyter's `normalize.less` sets `[hidden] { display: none; }` but bootstrap.min.css set `[hidden] { display: none !important; }` so we also need the `!important` here to be able to override the default hidden behavior on the sphinx rendered scikit-learn.org. See: https://github.com/scikit-learn/scikit-learn/issues/21755 */display: inline-block !important;position: relative;}#sk-container-id-1 div.sk-text-repr-fallback {display: none;}</style><div id=\"sk-container-id-1\" class=\"sk-top-container\"><div class=\"sk-text-repr-fallback\"><pre>LinearRegression()</pre><b>In a Jupyter environment, please rerun this cell to show the HTML representation or trust the notebook. <br />On GitHub, the HTML representation is unable to render, please try loading this page with nbviewer.org.</b></div><div class=\"sk-container\" hidden><div class=\"sk-item\"><div class=\"sk-estimator sk-toggleable\"><input class=\"sk-toggleable__control sk-hidden--visually\" id=\"sk-estimator-id-1\" type=\"checkbox\" checked><label for=\"sk-estimator-id-1\" class=\"sk-toggleable__label sk-toggleable__label-arrow\">LinearRegression</label><div class=\"sk-toggleable__content\"><pre>LinearRegression()</pre></div></div></div></div></div>"
      ],
      "text/plain": [
       "LinearRegression()"
      ]
     },
     "execution_count": 47,
     "metadata": {},
     "output_type": "execute_result"
    }
   ],
   "source": [
    "from sklearn.preprocessing import PolynomialFeatures\n",
    "\n",
    "\n",
    "# Create polynomial features\n",
    "poly_features = PolynomialFeatures(degree=6)\n",
    "X_poly = poly_features.fit_transform(x_train)\n",
    "\n",
    "# Perform linear regression\n",
    "regressor = LinearRegression()\n",
    "regressor.fit(X_poly, y_train)"
   ]
  },
  {
   "cell_type": "code",
   "execution_count": 48,
   "metadata": {
    "id": "ARKnIZr45jTQ"
   },
   "outputs": [],
   "source": [
    "from sklearn.base import RegressorMixin\n",
    "X_poly_test = poly_features.transform(x_test)\n",
    "# Evaluate the model on the training data\n",
    "train_score = regressor.score(X_poly, y_train)\n",
    "\n",
    "# Evaluate the model on the test data\n",
    "test_score = regressor.score(X_poly_test, y_test)"
   ]
  },
  {
   "cell_type": "markdown",
   "metadata": {},
   "source": [
    "## Analysing the evaluated score."
   ]
  },
  {
   "cell_type": "code",
   "execution_count": 49,
   "metadata": {
    "colab": {
     "base_uri": "https://localhost:8080/"
    },
    "id": "edCTb7pq5o11",
    "outputId": "e33a2073-5ef9-41c6-9be4-fb9bd6b9d003"
   },
   "outputs": [
    {
     "name": "stdout",
     "output_type": "stream",
     "text": [
      "Training Score: 0.24087843565045364 \n",
      "\n",
      "Test Score: 0.2492308794801552 \n",
      " \n"
     ]
    }
   ],
   "source": [
    "print(f\"Training Score: {train_score} \\n\")\n",
    "print(f\"Test Score: {test_score} \\n \" )"
   ]
  },
  {
   "cell_type": "markdown",
   "metadata": {},
   "source": [
    "## Building and fitting Ada Boost Regression ML model"
   ]
  },
  {
   "cell_type": "code",
   "execution_count": 50,
   "metadata": {
    "id": "8Px0og8t7I3X"
   },
   "outputs": [],
   "source": [
    "from sklearn.ensemble import AdaBoostRegressor\n",
    "abr = AdaBoostRegressor(n_estimators=10000, learning_rate=1.15)"
   ]
  },
  {
   "cell_type": "markdown",
   "metadata": {},
   "source": [
    "## Analysing the evaluated score."
   ]
  },
  {
   "cell_type": "code",
   "execution_count": 51,
   "metadata": {},
   "outputs": [
    {
     "name": "stdout",
     "output_type": "stream",
     "text": [
      "*---------------------------------------Score_AdaBoostRegressor(learning_rate=1.15, n_estimators=10000)-------------------------------------*\n",
      "The R2_Score is :- 0.3995605261106717 \n",
      "\n",
      "Training Score: 0.3755603334735159 \n",
      "\n",
      "Test Score: 0.3995605261106717 \n",
      " \n"
     ]
    }
   ],
   "source": [
    "evaluate_score(abr)"
   ]
  },
  {
   "cell_type": "markdown",
   "metadata": {},
   "source": [
    "## Building and fitting  Support Vector Regression ML model"
   ]
  },
  {
   "cell_type": "code",
   "execution_count": 52,
   "metadata": {},
   "outputs": [],
   "source": [
    "from sklearn.svm import SVR\n",
    "\n",
    "svr = SVR(kernel='rbf',\n",
    "    degree=3,\n",
    "    gamma='scale',\n",
    "    coef0=0.0,\n",
    "    tol=0.001,\n",
    "    C=1.0,\n",
    "    epsilon=0.1,\n",
    "    shrinking=True,\n",
    "    cache_size=200,\n",
    "    verbose=False,\n",
    "    max_iter=-1,)"
   ]
  },
  {
   "cell_type": "markdown",
   "metadata": {},
   "source": [
    "## Analysing the evaluated score."
   ]
  },
  {
   "cell_type": "code",
   "execution_count": 53,
   "metadata": {},
   "outputs": [
    {
     "name": "stdout",
     "output_type": "stream",
     "text": [
      "*---------------------------------------Score_SVR()-------------------------------------*\n",
      "The R2_Score is :- -0.17080736086222048 \n",
      "\n",
      "Training Score: -0.18249613957863842 \n",
      "\n",
      "Test Score: -0.17080736086222048 \n",
      " \n"
     ]
    }
   ],
   "source": [
    "evaluate_score(svr)"
   ]
  },
  {
   "cell_type": "markdown",
   "metadata": {},
   "source": [
    "## Building and fitting Hist Gradient Boosting Regression ML model"
   ]
  },
  {
   "cell_type": "code",
   "execution_count": 67,
   "metadata": {},
   "outputs": [],
   "source": [
    "from sklearn.ensemble import HistGradientBoostingRegressor"
   ]
  },
  {
   "cell_type": "code",
   "execution_count": 68,
   "metadata": {},
   "outputs": [],
   "source": [
    "hbr = HistGradientBoostingRegressor(l2_regularization=0.8)"
   ]
  },
  {
   "cell_type": "markdown",
   "metadata": {},
   "source": [
    "## Analysing the evaluated score."
   ]
  },
  {
   "cell_type": "code",
   "execution_count": 69,
   "metadata": {},
   "outputs": [
    {
     "name": "stdout",
     "output_type": "stream",
     "text": [
      "*---------------------------------------Score_HistGradientBoostingRegressor(l2_regularization=0.8)-------------------------------------*\n",
      "The R2_Score is :- 0.9651600091789825 \n",
      "\n",
      "Training Score: 0.9590737098214144 \n",
      "\n",
      "Test Score: 0.9651600091789825 \n",
      " \n"
     ]
    }
   ],
   "source": [
    "evaluate_score(hbr)"
   ]
  },
  {
   "cell_type": "markdown",
   "metadata": {},
   "source": [
    "# Saving the best suitable model"
   ]
  },
  {
   "cell_type": "markdown",
   "metadata": {},
   "source": [
    "### We will continue with Random Forest regression ML Model. And saving that model"
   ]
  },
  {
   "cell_type": "code",
   "execution_count": 70,
   "metadata": {},
   "outputs": [],
   "source": [
    "import pickle\n",
    "\n",
    "model = bg\n",
    "with open('final_model.pkl', 'wb') as f:\n",
    "    pickle.dump(model, f)\n"
   ]
  },
  {
   "cell_type": "markdown",
   "metadata": {},
   "source": [
    "## Loading that Ml Model"
   ]
  },
  {
   "cell_type": "code",
   "execution_count": 71,
   "metadata": {},
   "outputs": [],
   "source": [
    "# Assuming your pickle file is named 'model.pkl'\n",
    "with open('final_model.pkl', 'rb') as f:\n",
    "    model = pickle.load(f)\n"
   ]
  },
  {
   "cell_type": "markdown",
   "metadata": {},
   "source": [
    "## Creating 20 random point table for the further test."
   ]
  },
  {
   "cell_type": "code",
   "execution_count": null,
   "metadata": {},
   "outputs": [],
   "source": [
    "data = dataframe.sample(20)"
   ]
  },
  {
   "cell_type": "code",
   "execution_count": null,
   "metadata": {},
   "outputs": [],
   "source": [
    "data"
   ]
  },
  {
   "cell_type": "markdown",
   "metadata": {},
   "source": [
    "## Saving the random point in pkl format"
   ]
  },
  {
   "cell_type": "code",
   "execution_count": null,
   "metadata": {},
   "outputs": [],
   "source": [
    "model1 = data\n",
    "with open('data.pkl', 'wb') as f:\n",
    "    pickle.dump(model1, f)\n"
   ]
  },
  {
   "cell_type": "code",
   "execution_count": null,
   "metadata": {},
   "outputs": [],
   "source": []
  }
 ],
 "metadata": {
  "accelerator": "GPU",
  "colab": {
   "gpuType": "T4",
   "provenance": []
  },
  "kernelspec": {
   "display_name": "Python 3 (ipykernel)",
   "language": "python",
   "name": "python3"
  },
  "language_info": {
   "codemirror_mode": {
    "name": "ipython",
    "version": 3
   },
   "file_extension": ".py",
   "mimetype": "text/x-python",
   "name": "python",
   "nbconvert_exporter": "python",
   "pygments_lexer": "ipython3",
   "version": "3.11.4"
  }
 },
 "nbformat": 4,
 "nbformat_minor": 1
}
